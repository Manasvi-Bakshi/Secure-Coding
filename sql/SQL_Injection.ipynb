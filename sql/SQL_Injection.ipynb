{
  "nbformat": 4,
  "nbformat_minor": 0,
  "metadata": {
    "colab": {
      "provenance": []
    },
    "kernelspec": {
      "name": "python3",
      "display_name": "Python 3"
    },
    "language_info": {
      "name": "python"
    }
  },
  "cells": [
    {
      "cell_type": "code",
      "execution_count": 8,
      "metadata": {
        "colab": {
          "base_uri": "https://localhost:8080/"
        },
        "id": "E1UkCKNZ3A5q",
        "outputId": "df7e0421-f947-4058-afef-9dde3066ee2a"
      },
      "outputs": [
        {
          "output_type": "stream",
          "name": "stdout",
          "text": [
            "Query: SELECT * FROM users WHERE username = 'admin' AND password = 'password'\n",
            "Detected SQL Injection: True\n",
            "\n",
            "Query: SELECT * FROM users WHERE username = 'admin' OR 1=1 --\n",
            "Detected SQL Injection: True\n",
            "\n",
            "Query: DROP TABLE users;\n",
            "Detected SQL Injection: True\n",
            "\n",
            "Query: INSERT INTO users (username, password) VALUES ('admin', 'password');\n",
            "Detected SQL Injection: True\n",
            "\n",
            "Query: UPDATE users SET password = 'newpassword' WHERE username = 'admin';\n",
            "Detected SQL Injection: False\n",
            "\n",
            "Query: SELECT name FROM employees WHERE department = 'HR' UNION SELECT password, username FROM users;\n",
            "Detected SQL Injection: True\n",
            "\n"
          ]
        }
      ],
      "source": [
        "import re\n",
        "\n",
        "def detect_sql_injection(query):\n",
        "    patterns = [\n",
        "        r\"(?i)union\\s+select\", r\"(?i)select\\s+.*\\s+from\", r\"(?i)drop\\s+table\",\n",
        "        r\"(?i)insert\\s+into\", r\"(?i)update\\s+set\", r\"(?i)delete\\s+from\",\n",
        "        r\"(?i)or\\s+1\\s*=\\s*1\", r\"(?i)exec\\s+xp_\", r\"(?i)like\\s+'%'\",\n",
        "        r\"(?i)concat\", r\"(?i)/\\*.*\\*/\", r\"(?i)--\"\n",
        "    ]\n",
        "    return any(re.search(pattern, query) for pattern in patterns)\n",
        "\n",
        "test_queries = [\n",
        "    \"SELECT * FROM users WHERE username = 'admin' AND password = 'password'\",\n",
        "    \"SELECT * FROM users WHERE username = 'admin' OR 1=1 --\",\n",
        "    \"DROP TABLE users;\",\n",
        "    \"INSERT INTO users (username, password) VALUES ('admin', 'password');\",\n",
        "    \"UPDATE users SET password = 'newpassword' WHERE username = 'admin';\",\n",
        "    \"SELECT name FROM employees WHERE department = 'HR' UNION SELECT password, username FROM users;\"\n",
        "]\n",
        "\n",
        "for query in test_queries:\n",
        "    print(f\"Query: {query}\\nDetected SQL Injection: {detect_sql_injection(query)}\\n\")\n"
      ]
    }
  ]
}