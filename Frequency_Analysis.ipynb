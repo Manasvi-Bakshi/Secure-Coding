{
  "nbformat": 4,
  "nbformat_minor": 0,
  "metadata": {
    "colab": {
      "provenance": []
    },
    "kernelspec": {
      "name": "python3",
      "display_name": "Python 3"
    },
    "language_info": {
      "name": "python"
    }
  },
  "cells": [
    {
      "cell_type": "markdown",
      "source": [
        "# Assignment 1"
      ],
      "metadata": {
        "id": "-jmoDEt-kZ_Z"
      }
    },
    {
      "cell_type": "markdown",
      "source": [
        "Q1"
      ],
      "metadata": {
        "id": "rVuqgAd8lo8q"
      }
    },
    {
      "cell_type": "code",
      "execution_count": null,
      "metadata": {
        "colab": {
          "base_uri": "https://localhost:8080/"
        },
        "id": "wUyPH4GakPz7",
        "outputId": "9f1b3e60-b6f8-41a2-8e22-e3d4beb5ddf4"
      },
      "outputs": [
        {
          "output_type": "stream",
          "name": "stdout",
          "text": [
            "RCLLA\n",
            "HELLO\n"
          ]
        }
      ],
      "source": [
        "def encrypt(text,a,b):\n",
        "  new = \"\"\n",
        "  for i in text:\n",
        "    if i.isalpha():\n",
        "      if i.isupper():\n",
        "        new += chr(((a * (ord(i) - ord('A')) + b) % 26) + ord('A'))\n",
        "      else:\n",
        "        new += chr(((a * (ord(i) - ord('a')) + b) % 26) + ord('a'))\n",
        "    else:\n",
        "      new += i\n",
        "  return new\n",
        "\n",
        "def decrypt(text, a, b):\n",
        "   decrypted_text = \"\"\n",
        "   a_inv = pow(a, -1, 26)\n",
        "   for char in text:\n",
        "      if char.isalpha():\n",
        "         if char.isupper():\n",
        "            decrypted_text += chr(((a_inv * (ord(char) - ord('A') - b)) % 26) + ord('A'))\n",
        "         else:\n",
        "            decrypted_text += chr(((a_inv * (ord(char) - ord('a') - b)) % 26) + ord('a'))\n",
        "      else:\n",
        "         decrypted_text += char\n",
        "   return decrypted_text\n",
        "\n",
        "text=\"HELLO\"\n",
        "a=5\n",
        "b=8\n",
        "z = encrypt(text,a,b)\n",
        "x = decrypt(z,a,b)\n",
        "print(z)\n",
        "print(x)"
      ]
    },
    {
      "cell_type": "markdown",
      "source": [
        "Q2"
      ],
      "metadata": {
        "id": "xxAtP8BwlsJR"
      }
    },
    {
      "cell_type": "code",
      "source": [
        "def mod_inverse(a, m):\n",
        "    for x in range(1, m):\n",
        "        if (a * x) % m == 1:\n",
        "            return x\n",
        "    return None\n",
        "\n",
        "def affine_decrypt(ciphertext, a, b):\n",
        "    a_inv = mod_inverse(a, 26)\n",
        "    if a_inv is None:\n",
        "        raise ValueError(f\"No modular inverse for a = {a} under modulo 26.\")\n",
        "\n",
        "    decrypted_text = \"\"\n",
        "    for char in ciphertext:\n",
        "        if char.isalpha():\n",
        "            offset = ord('A') if char.isupper() else ord('a')\n",
        "            decrypted_text += chr(((a_inv * (ord(char) - offset - b)) % 26) + offset)\n",
        "        else:\n",
        "            decrypted_text += char\n",
        "    return decrypted_text\n",
        "\n",
        "def determine_keys(ciphertext):\n",
        "    x1, y1 = ord('E') - ord('A'), ord('S') - ord('A')\n",
        "    x2, y2 = ord('T') - ord('A'), ord('X') - ord('A')\n",
        "    a = ((y1 - y2) * mod_inverse(x1 - x2, 26)) % 26\n",
        "    b = (y1 - a * x1) % 26\n",
        "    return a, b\n",
        "\n",
        "ciphertext = \"FMXVEDKAPHEERBNDKXRSREFMORUSDKDVSHVUFEDKAPRKDLYEVLRHHRH\"\n",
        "a, b = determine_keys(ciphertext)\n",
        "print(f\"Determined keys: a = {a}, b = {b}\")\n",
        "print(f\"Decrypted text: {affine_decrypt(ciphertext, a, b)}\")\n"
      ],
      "metadata": {
        "colab": {
          "base_uri": "https://localhost:8080/"
        },
        "id": "k8lFfH-ClzQY",
        "outputId": "a30b9667-d579-40d3-e710-6a84e377b731"
      },
      "execution_count": null,
      "outputs": [
        {
          "output_type": "stream",
          "name": "stdout",
          "text": [
            "Determined keys: a = 9, b = 8\n",
            "Decrypted text: RMTNOLGCVXOOBFPLGTBEBORMSBKELGLNEXNKROLGCVBGLJWONJBXXBX\n"
          ]
        }
      ]
    },
    {
      "cell_type": "markdown",
      "source": [
        "Q3"
      ],
      "metadata": {
        "id": "WnMo4JtY8iSi"
      }
    },
    {
      "cell_type": "code",
      "source": [
        "def mod_inverse(a, m):\n",
        "    for x in range(1, m):\n",
        "        if (a * x) % m == 1:\n",
        "            return x\n",
        "    return None\n",
        "\n",
        "def encrypt_affine(text, a, b):\n",
        "    result = \"\"\n",
        "    for char in text:\n",
        "        if char.isalpha():\n",
        "            offset = ord('A') if char.isupper() else ord('a')\n",
        "            result += chr(((a * (ord(char) - offset) + b) % 26) + offset)\n",
        "        else:\n",
        "            result += char\n",
        "    return result\n",
        "\n",
        "def decrypt_affine(text, a, b):\n",
        "    a_inv = mod_inverse(a, 26)\n",
        "    if a_inv is None:\n",
        "        raise ValueError(f\"No modular inverse for a = {a} under modulo 26.\")\n",
        "    result = \"\"\n",
        "    for char in text:\n",
        "        if char.isalpha():\n",
        "            offset = ord('A') if char.isupper() else ord('a')\n",
        "            result += chr(((a_inv * (ord(char) - offset - b)) % 26) + offset)\n",
        "        else:\n",
        "            result += char\n",
        "    return result\n",
        "\n",
        "def apply_salt(text, salt):\n",
        "    result = \"\"\n",
        "    for char in text:\n",
        "        if char.isalpha():\n",
        "            offset = ord('A') if char.isupper() else ord('a')\n",
        "            result += chr(((ord(char) - offset + salt) % 26) + offset)\n",
        "        else:\n",
        "            result += char\n",
        "    return result\n",
        "\n",
        "def remove_salt(text, salt):\n",
        "    result = \"\"\n",
        "    for char in text:\n",
        "        if char.isalpha():\n",
        "            offset = ord('A') if char.isupper() else ord('a')\n",
        "            result += chr(((ord(char) - offset - salt) % 26) + offset)\n",
        "        else:\n",
        "            result += char\n",
        "    return result\n",
        "\n",
        "plain_text = \"HELLO\"\n",
        "salt = 2\n",
        "a, b = 5, 8\n",
        "\n",
        "salted_text = apply_salt(plain_text, salt)\n",
        "encrypted_text = encrypt_affine(salted_text, a, b)\n",
        "decrypted_text = decrypt_affine(encrypted_text, a, b)\n",
        "original_text = remove_salt(decrypted_text, salt)\n",
        "\n",
        "print(f\"Modified Plaintext with salt: {salted_text}\")\n",
        "print(f\"Encrypted text: {encrypted_text}\")\n",
        "print(f\"Decrypted text: {original_text}\")\n"
      ],
      "metadata": {
        "colab": {
          "base_uri": "https://localhost:8080/"
        },
        "id": "9HgJrF5VqEsY",
        "outputId": "d8d187e3-0edf-4ac9-88ed-d6ab065eb21d"
      },
      "execution_count": null,
      "outputs": [
        {
          "output_type": "stream",
          "name": "stdout",
          "text": [
            "Modified Plaintext with salt: JGNNQ\n",
            "Encrypted text: BMVVK\n",
            "Decrypted text: HELLO\n"
          ]
        }
      ]
    },
    {
      "cell_type": "markdown",
      "source": [
        "Q4"
      ],
      "metadata": {
        "id": "1zBKiuZT9JVV"
      }
    },
    {
      "cell_type": "code",
      "source": [
        "from math import gcd\n",
        "from collections import Counter\n",
        "\n",
        "def mod_inverse(a, m):\n",
        "    for x in range(1, m):\n",
        "        if (a * x) % m == 1:\n",
        "            return x\n",
        "    return None\n",
        "\n",
        "def affine_decrypt(text, a, b):\n",
        "    a_inv = mod_inverse(a, 26)\n",
        "    if a_inv is None:\n",
        "        return None\n",
        "    result = \"\"\n",
        "    for char in text:\n",
        "        if char.isalpha():\n",
        "            result += chr(((a_inv * (ord(char) - ord('A') - b)) % 26) + ord('A'))\n",
        "        else:\n",
        "            result += char\n",
        "    return result\n",
        "\n",
        "def remove_salt(text, salt):\n",
        "    result = \"\"\n",
        "    for char in text:\n",
        "        if char.isalpha():\n",
        "            result += chr(((ord(char) - ord('A') - salt) % 26) + ord('A'))\n",
        "        else:\n",
        "            result += char\n",
        "    return result\n",
        "\n",
        "def is_coprime(a, m):\n",
        "    return gcd(a, m) == 1\n",
        "\n",
        "def find_keys(ciphertext):\n",
        "    freq = Counter(ciphertext.replace(\" \", \"\"))\n",
        "    common_letters = ['E', 'T', 'A', 'O', 'I', 'N']\n",
        "    for cipher_char1, _ in freq.most_common(5):\n",
        "        for cipher_char2, _ in freq.most_common(5):\n",
        "            if cipher_char1 == cipher_char2:\n",
        "                continue\n",
        "            for plain_char1 in common_letters:\n",
        "                for plain_char2 in common_letters:\n",
        "                    if plain_char1 == plain_char2:\n",
        "                        continue\n",
        "                    y1, y2 = ord(cipher_char1) - ord('A'), ord(cipher_char2) - ord('A')\n",
        "                    x1, x2 = ord(plain_char1) - ord('A'), ord(plain_char2) - ord('A')\n",
        "                    delta_y = (y1 - y2) % 26\n",
        "                    delta_x = (x1 - x2) % 26\n",
        "                    if mod_inverse(delta_x, 26):\n",
        "                        a = (delta_y * mod_inverse(delta_x, 26)) % 26\n",
        "                        if is_coprime(a, 26):\n",
        "                            b = (y1 - a * x1) % 26\n",
        "                            return a, b\n",
        "    return None, None\n",
        "\n",
        "def find_salt(ciphertext, a, b):\n",
        "    salted_text = affine_decrypt(ciphertext.replace(\" \", \"\"), a, b)\n",
        "    if not salted_text:\n",
        "        return None, None\n",
        "    for salt in range(26):\n",
        "        plain_text = remove_salt(salted_text, salt)\n",
        "        if is_valid_text(plain_text):\n",
        "            return salt, plain_text\n",
        "    return None, None\n",
        "\n",
        "def is_valid_text(text):\n",
        "    common_words = [\"the\", \"and\", \"is\", \"of\", \"to\", \"in\", \"that\", \"it\"]\n",
        "    return any(word in text.lower() for word in common_words)\n",
        "\n",
        "def solve_affine_cipher(ciphertext):\n",
        "    a, b = find_keys(ciphertext)\n",
        "    if a is None or b is None:\n",
        "        return \"Failed to determine keys.\"\n",
        "    salt, plain_text = find_salt(ciphertext, a, b)\n",
        "    if salt is None or plain_text is None:\n",
        "        return \"Failed to determine salt or decrypt the text.\"\n",
        "    return f\"Keys: a = {a}, b = {b}\\nSalt: {salt}\\nPlaintext: {plain_text}\"\n",
        "\n",
        "ciphertext = \"TBRDOB RZWVUL TDMABRY VT H HPHCVUL TDMABRY\"\n",
        "print(solve_affine_cipher(ciphertext))\n"
      ],
      "metadata": {
        "colab": {
          "base_uri": "https://localhost:8080/"
        },
        "id": "K4ttBpXK8jr7",
        "outputId": "b63a0012-4e0b-4da4-ef0e-6b61db7a60bb"
      },
      "execution_count": null,
      "outputs": [
        {
          "output_type": "stream",
          "name": "stdout",
          "text": [
            "Failed to determine keys.\n"
          ]
        }
      ]
    }
  ]
}